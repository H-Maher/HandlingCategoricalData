{
 "cells": [
  {
   "cell_type": "markdown",
   "id": "c42a60d3",
   "metadata": {},
   "source": [
    "This notebook is a summerization on how to deal with categorical varibles in python"
   ]
  },
  {
   "cell_type": "markdown",
   "id": "79971bd2",
   "metadata": {},
   "source": [
    "**<font size=\"3\"> What is categorical data? </font>**  \n",
    "-Categorical data is considered words and symbols, not numbers.  \n",
    "-Categorical data is devided into ordinal & nominal.  \n",
    "-Nominal data are things without order like colors (red-green-blue).  \n",
    "-Ordinal data or data with order like grades(A,B,C,D,F).  "
   ]
  },
  {
   "cell_type": "markdown",
   "id": "dd68ce9a",
   "metadata": {},
   "source": [
    "The dataset for this tutorial is Top Games on Google playstore from Kaggle"
   ]
  },
  {
   "cell_type": "code",
   "execution_count": 1,
   "id": "26376e9d",
   "metadata": {},
   "outputs": [
    {
     "data": {
      "text/html": [
       "<div>\n",
       "<style scoped>\n",
       "    .dataframe tbody tr th:only-of-type {\n",
       "        vertical-align: middle;\n",
       "    }\n",
       "\n",
       "    .dataframe tbody tr th {\n",
       "        vertical-align: top;\n",
       "    }\n",
       "\n",
       "    .dataframe thead th {\n",
       "        text-align: right;\n",
       "    }\n",
       "</style>\n",
       "<table border=\"1\" class=\"dataframe\">\n",
       "  <thead>\n",
       "    <tr style=\"text-align: right;\">\n",
       "      <th></th>\n",
       "      <th>rank</th>\n",
       "      <th>title</th>\n",
       "      <th>total ratings</th>\n",
       "      <th>installs</th>\n",
       "      <th>average rating</th>\n",
       "      <th>growth (30 days)</th>\n",
       "      <th>growth (60 days)</th>\n",
       "      <th>price</th>\n",
       "      <th>category</th>\n",
       "      <th>5 star ratings</th>\n",
       "      <th>4 star ratings</th>\n",
       "      <th>3 star ratings</th>\n",
       "      <th>2 star ratings</th>\n",
       "      <th>1 star ratings</th>\n",
       "      <th>paid</th>\n",
       "    </tr>\n",
       "  </thead>\n",
       "  <tbody>\n",
       "    <tr>\n",
       "      <th>0</th>\n",
       "      <td>1</td>\n",
       "      <td>Garena Free Fire- World Series</td>\n",
       "      <td>86273129</td>\n",
       "      <td>500.0 M</td>\n",
       "      <td>4</td>\n",
       "      <td>2.1</td>\n",
       "      <td>6.9</td>\n",
       "      <td>0.0</td>\n",
       "      <td>GAME ACTION</td>\n",
       "      <td>63546766</td>\n",
       "      <td>4949507</td>\n",
       "      <td>3158756</td>\n",
       "      <td>2122183</td>\n",
       "      <td>12495915</td>\n",
       "      <td>False</td>\n",
       "    </tr>\n",
       "    <tr>\n",
       "      <th>1</th>\n",
       "      <td>2</td>\n",
       "      <td>PUBG MOBILE - Traverse</td>\n",
       "      <td>37276732</td>\n",
       "      <td>500.0 M</td>\n",
       "      <td>4</td>\n",
       "      <td>1.8</td>\n",
       "      <td>3.6</td>\n",
       "      <td>0.0</td>\n",
       "      <td>GAME ACTION</td>\n",
       "      <td>28339753</td>\n",
       "      <td>2164478</td>\n",
       "      <td>1253185</td>\n",
       "      <td>809821</td>\n",
       "      <td>4709492</td>\n",
       "      <td>False</td>\n",
       "    </tr>\n",
       "    <tr>\n",
       "      <th>2</th>\n",
       "      <td>3</td>\n",
       "      <td>Mobile Legends: Bang Bang</td>\n",
       "      <td>26663595</td>\n",
       "      <td>100.0 M</td>\n",
       "      <td>4</td>\n",
       "      <td>1.5</td>\n",
       "      <td>3.2</td>\n",
       "      <td>0.0</td>\n",
       "      <td>GAME ACTION</td>\n",
       "      <td>18777988</td>\n",
       "      <td>1812094</td>\n",
       "      <td>1050600</td>\n",
       "      <td>713912</td>\n",
       "      <td>4308998</td>\n",
       "      <td>False</td>\n",
       "    </tr>\n",
       "    <tr>\n",
       "      <th>3</th>\n",
       "      <td>4</td>\n",
       "      <td>Brawl Stars</td>\n",
       "      <td>17971552</td>\n",
       "      <td>100.0 M</td>\n",
       "      <td>4</td>\n",
       "      <td>1.4</td>\n",
       "      <td>4.4</td>\n",
       "      <td>0.0</td>\n",
       "      <td>GAME ACTION</td>\n",
       "      <td>13018610</td>\n",
       "      <td>1552950</td>\n",
       "      <td>774012</td>\n",
       "      <td>406184</td>\n",
       "      <td>2219794</td>\n",
       "      <td>False</td>\n",
       "    </tr>\n",
       "    <tr>\n",
       "      <th>4</th>\n",
       "      <td>5</td>\n",
       "      <td>Sniper 3D: Fun Free Online FPS Shooting Game</td>\n",
       "      <td>14464235</td>\n",
       "      <td>500.0 M</td>\n",
       "      <td>4</td>\n",
       "      <td>0.8</td>\n",
       "      <td>1.5</td>\n",
       "      <td>0.0</td>\n",
       "      <td>GAME ACTION</td>\n",
       "      <td>9827328</td>\n",
       "      <td>2124154</td>\n",
       "      <td>1047741</td>\n",
       "      <td>380670</td>\n",
       "      <td>1084340</td>\n",
       "      <td>False</td>\n",
       "    </tr>\n",
       "  </tbody>\n",
       "</table>\n",
       "</div>"
      ],
      "text/plain": [
       "   rank                                         title  total ratings installs  \\\n",
       "0     1                Garena Free Fire- World Series       86273129  500.0 M   \n",
       "1     2                        PUBG MOBILE - Traverse       37276732  500.0 M   \n",
       "2     3                     Mobile Legends: Bang Bang       26663595  100.0 M   \n",
       "3     4                                   Brawl Stars       17971552  100.0 M   \n",
       "4     5  Sniper 3D: Fun Free Online FPS Shooting Game       14464235  500.0 M   \n",
       "\n",
       "   average rating  growth (30 days)  growth (60 days)  price     category  \\\n",
       "0               4               2.1               6.9    0.0  GAME ACTION   \n",
       "1               4               1.8               3.6    0.0  GAME ACTION   \n",
       "2               4               1.5               3.2    0.0  GAME ACTION   \n",
       "3               4               1.4               4.4    0.0  GAME ACTION   \n",
       "4               4               0.8               1.5    0.0  GAME ACTION   \n",
       "\n",
       "   5 star ratings  4 star ratings  3 star ratings  2 star ratings  \\\n",
       "0        63546766         4949507         3158756         2122183   \n",
       "1        28339753         2164478         1253185          809821   \n",
       "2        18777988         1812094         1050600          713912   \n",
       "3        13018610         1552950          774012          406184   \n",
       "4         9827328         2124154         1047741          380670   \n",
       "\n",
       "   1 star ratings   paid  \n",
       "0        12495915  False  \n",
       "1         4709492  False  \n",
       "2         4308998  False  \n",
       "3         2219794  False  \n",
       "4         1084340  False  "
      ]
     },
     "execution_count": 1,
     "metadata": {},
     "output_type": "execute_result"
    }
   ],
   "source": [
    "import pandas as pd\n",
    "df=pd.read_csv(\"android-games.csv\")\n",
    "df.head()"
   ]
  },
  {
   "cell_type": "markdown",
   "id": "9deccac3",
   "metadata": {},
   "source": [
    "Iam going to keep only the category column in a dummy dataframe to keep things simple  \n",
    "Also generate frequency table for all unique categories"
   ]
  },
  {
   "cell_type": "code",
   "execution_count": 2,
   "id": "19cc733b",
   "metadata": {},
   "outputs": [
    {
     "data": {
      "text/plain": [
       "GAME CARD            126\n",
       "GAME WORD            104\n",
       "GAME PUZZLE          100\n",
       "GAME TRIVIA          100\n",
       "GAME STRATEGY        100\n",
       "GAME SPORTS          100\n",
       "GAME SIMULATION      100\n",
       "GAME ROLE PLAYING    100\n",
       "GAME RACING          100\n",
       "GAME ACTION          100\n",
       "GAME ADVENTURE       100\n",
       "GAME EDUCATIONAL     100\n",
       "GAME CASUAL          100\n",
       "GAME CASINO          100\n",
       "GAME BOARD           100\n",
       "GAME ARCADE          100\n",
       "GAME MUSIC           100\n",
       "Name: category, dtype: int64"
      ]
     },
     "execution_count": 2,
     "metadata": {},
     "output_type": "execute_result"
    }
   ],
   "source": [
    "category_df=df[['rank','title','category']]\n",
    "category_df['category'].value_counts()"
   ]
  },
  {
   "cell_type": "markdown",
   "id": "522722a4",
   "metadata": {},
   "source": [
    "**<font size=\"3\"> Why you should handle categorical data at first place? </font>**  \n",
    "-Most machine learning models work with numerical data  \n",
    "-Takes less memory!"
   ]
  },
  {
   "cell_type": "code",
   "execution_count": 3,
   "id": "1bb6ec9e",
   "metadata": {},
   "outputs": [
    {
     "data": {
      "text/plain": [
       "13840"
      ]
     },
     "execution_count": 3,
     "metadata": {},
     "output_type": "execute_result"
    }
   ],
   "source": [
    "category_df['category'].nbytes"
   ]
  },
  {
   "cell_type": "markdown",
   "id": "27957c87",
   "metadata": {},
   "source": [
    "Check how 'category' type takes less space"
   ]
  },
  {
   "cell_type": "code",
   "execution_count": 15,
   "id": "0566b724",
   "metadata": {},
   "outputs": [
    {
     "data": {
      "text/plain": [
       "1866"
      ]
     },
     "execution_count": 15,
     "metadata": {},
     "output_type": "execute_result"
    }
   ],
   "source": [
    "category_df.loc[:,'category']=category_df.loc[:,'category'].astype('category')\n",
    "category_df['category'].nbytes"
   ]
  },
  {
   "cell_type": "markdown",
   "id": "b5a8ea7f",
   "metadata": {},
   "source": [
    "There are few tricks with category data type like adding or removing categories"
   ]
  },
  {
   "cell_type": "code",
   "execution_count": 5,
   "id": "52731485",
   "metadata": {},
   "outputs": [
    {
     "data": {
      "text/plain": [
       "GAME CARD            126\n",
       "GAME WORD            104\n",
       "GAME ACTION          100\n",
       "GAME ADVENTURE       100\n",
       "GAME TRIVIA          100\n",
       "GAME STRATEGY        100\n",
       "GAME SPORTS          100\n",
       "GAME SIMULATION      100\n",
       "GAME ROLE PLAYING    100\n",
       "GAME RACING          100\n",
       "GAME PUZZLE          100\n",
       "GAME MUSIC           100\n",
       "GAME EDUCATIONAL     100\n",
       "GAME CASUAL          100\n",
       "GAME CASINO          100\n",
       "GAME BOARD           100\n",
       "GAME ARCADE          100\n",
       "dummyCat1              0\n",
       "dummyCat2              0\n",
       "dummyCat3              0\n",
       "dummyCat4              0\n",
       "Name: category, dtype: int64"
      ]
     },
     "execution_count": 5,
     "metadata": {},
     "output_type": "execute_result"
    }
   ],
   "source": [
    "new_categories=['dummyCat1','dummyCat2','dummyCat3','dummyCat4']\n",
    "category_df.loc[:,'category']=category_df.loc[:,'category'].cat.add_categories(new_categories)\n",
    "category_df['category'].value_counts()"
   ]
  },
  {
   "cell_type": "code",
   "execution_count": 13,
   "id": "9bad4319",
   "metadata": {
    "scrolled": true
   },
   "outputs": [
    {
     "data": {
      "text/plain": [
       "Game Card            126\n",
       "Game Word            104\n",
       "Game Puzzle          100\n",
       "Game Trivia          100\n",
       "Game Strategy        100\n",
       "Game Sports          100\n",
       "Game Simulation      100\n",
       "Game Role Playing    100\n",
       "Game Racing          100\n",
       "Game Action          100\n",
       "Game Adventure       100\n",
       "Game Educational     100\n",
       "Game Casual          100\n",
       "Game Casino          100\n",
       "Game Board           100\n",
       "Game Arcade          100\n",
       "Game Music           100\n",
       "Name: category, dtype: int64"
      ]
     },
     "execution_count": 13,
     "metadata": {},
     "output_type": "execute_result"
    }
   ],
   "source": [
    "category_df.loc[:,'category']=category_df.loc[:,'category'].cat.remove_categories(new_categories)\n",
    "category_df['category'].value_counts()"
   ]
  },
  {
   "cell_type": "markdown",
   "id": "257d4fc8",
   "metadata": {},
   "source": [
    "We can rename categories too!"
   ]
  },
  {
   "cell_type": "code",
   "execution_count": 7,
   "id": "808ac9b9",
   "metadata": {
    "scrolled": true
   },
   "outputs": [
    {
     "data": {
      "text/html": [
       "<div>\n",
       "<style scoped>\n",
       "    .dataframe tbody tr th:only-of-type {\n",
       "        vertical-align: middle;\n",
       "    }\n",
       "\n",
       "    .dataframe tbody tr th {\n",
       "        vertical-align: top;\n",
       "    }\n",
       "\n",
       "    .dataframe thead th {\n",
       "        text-align: right;\n",
       "    }\n",
       "</style>\n",
       "<table border=\"1\" class=\"dataframe\">\n",
       "  <thead>\n",
       "    <tr style=\"text-align: right;\">\n",
       "      <th></th>\n",
       "      <th>rank</th>\n",
       "      <th>title</th>\n",
       "      <th>category</th>\n",
       "    </tr>\n",
       "  </thead>\n",
       "  <tbody>\n",
       "    <tr>\n",
       "      <th>0</th>\n",
       "      <td>1</td>\n",
       "      <td>Garena Free Fire- World Series</td>\n",
       "      <td>Game Action</td>\n",
       "    </tr>\n",
       "    <tr>\n",
       "      <th>1</th>\n",
       "      <td>2</td>\n",
       "      <td>PUBG MOBILE - Traverse</td>\n",
       "      <td>Game Action</td>\n",
       "    </tr>\n",
       "    <tr>\n",
       "      <th>2</th>\n",
       "      <td>3</td>\n",
       "      <td>Mobile Legends: Bang Bang</td>\n",
       "      <td>Game Action</td>\n",
       "    </tr>\n",
       "    <tr>\n",
       "      <th>3</th>\n",
       "      <td>4</td>\n",
       "      <td>Brawl Stars</td>\n",
       "      <td>Game Action</td>\n",
       "    </tr>\n",
       "    <tr>\n",
       "      <th>4</th>\n",
       "      <td>5</td>\n",
       "      <td>Sniper 3D: Fun Free Online FPS Shooting Game</td>\n",
       "      <td>Game Action</td>\n",
       "    </tr>\n",
       "  </tbody>\n",
       "</table>\n",
       "</div>"
      ],
      "text/plain": [
       "   rank                                         title     category\n",
       "0     1                Garena Free Fire- World Series  Game Action\n",
       "1     2                        PUBG MOBILE - Traverse  Game Action\n",
       "2     3                     Mobile Legends: Bang Bang  Game Action\n",
       "3     4                                   Brawl Stars  Game Action\n",
       "4     5  Sniper 3D: Fun Free Online FPS Shooting Game  Game Action"
      ]
     },
     "execution_count": 7,
     "metadata": {},
     "output_type": "execute_result"
    }
   ],
   "source": [
    "category_df.loc[:,'category']=category_df.loc[:,'category'].cat.rename_categories(lambda c: c.title())\n",
    "category_df.head(5)"
   ]
  },
  {
   "cell_type": "markdown",
   "id": "974c13bb",
   "metadata": {},
   "source": [
    "We can create a whole new dictionary and use its value to replace old categories  \n",
    "This also can be used in cleaning data"
   ]
  },
  {
   "cell_type": "code",
   "execution_count": 14,
   "id": "d2eb4c7b",
   "metadata": {},
   "outputs": [
    {
     "data": {
      "text/plain": [
       "Card                 126\n",
       "Game Word            104\n",
       "Game Puzzle          100\n",
       "Game Trivia          100\n",
       "Game Strategy        100\n",
       "Game Sports          100\n",
       "Game Simulation      100\n",
       "Game Role Playing    100\n",
       "Game Racing          100\n",
       "Game Action          100\n",
       "Game Adventure       100\n",
       "Game Educational     100\n",
       "Game Casual          100\n",
       "Game Casino          100\n",
       "Game Board           100\n",
       "Game Arcade          100\n",
       "Music                100\n",
       "Name: updated_categories, dtype: int64"
      ]
     },
     "execution_count": 14,
     "metadata": {},
     "output_type": "execute_result"
    }
   ],
   "source": [
    "caregories_update={'Game Card':'Card','Game Music':'Music'}\n",
    "category_df.loc[:,'updated_categories']=category_df.loc[:,'category'].replace(caregories_update)\n",
    "category_df['updated_categories'].value_counts()\n"
   ]
  },
  {
   "cell_type": "markdown",
   "id": "1587bca5",
   "metadata": {},
   "source": [
    "Notice that the updated_categories column is object type and we need to make it 'category' type again"
   ]
  },
  {
   "cell_type": "code",
   "execution_count": 11,
   "id": "39fca317",
   "metadata": {},
   "outputs": [
    {
     "data": {
      "text/plain": [
       "dtype('O')"
      ]
     },
     "execution_count": 11,
     "metadata": {},
     "output_type": "execute_result"
    }
   ],
   "source": [
    "category_df['updated_categories'].dtype"
   ]
  },
  {
   "cell_type": "code",
   "execution_count": 21,
   "id": "9c649813",
   "metadata": {},
   "outputs": [
    {
     "data": {
      "text/plain": [
       "CategoricalDtype(categories=['Card', 'Game Action', 'Game Adventure', 'Game Arcade',\n",
       "                  'Game Board', 'Game Casino', 'Game Casual',\n",
       "                  'Game Educational', 'Game Puzzle', 'Game Racing',\n",
       "                  'Game Role Playing', 'Game Simulation', 'Game Sports',\n",
       "                  'Game Strategy', 'Game Trivia', 'Game Word', 'Music'],\n",
       ", ordered=False)"
      ]
     },
     "execution_count": 21,
     "metadata": {},
     "output_type": "execute_result"
    }
   ],
   "source": [
    "category_df.loc[:,'updated_categories']=category_df.loc[:,'updated_categories'].astype('category')\n",
    "category_df['updated_categories'].dtype"
   ]
  },
  {
   "cell_type": "markdown",
   "id": "79653797",
   "metadata": {},
   "source": [
    "You can use str to do more cleaning but make sure to change its type to 'category'    \n",
    "df['column']=df['column'].str.strip()  \n",
    "df['column']=df['column'].str.lower()  \n",
    "df['column']=df['column'].str.contains('something')\n"
   ]
  },
  {
   "cell_type": "markdown",
   "id": "13990c3b",
   "metadata": {},
   "source": [
    "**Note**: sometimes categorical data are can be logically ordered or we can reorder it using reorder categories function  \n",
    "df['column']=df['column'].cat.reorder_categories(  \n",
    "new_categories=[\"small\", \"medium\", \"large\"],ordered=True) "
   ]
  },
  {
   "cell_type": "markdown",
   "id": "f50419e1",
   "metadata": {},
   "source": [
    "**<font size=\"3\"> Visualising categories using seaborn </font>**  \n",
    "Seaborn got some cool features to visualise categorical data  \n",
    "But first Iam gonna create random dummy df because games are ordered by category in original df"
   ]
  },
  {
   "cell_type": "code",
   "execution_count": 74,
   "id": "816a9a0e",
   "metadata": {},
   "outputs": [
    {
     "data": {
      "text/html": [
       "<div>\n",
       "<style scoped>\n",
       "    .dataframe tbody tr th:only-of-type {\n",
       "        vertical-align: middle;\n",
       "    }\n",
       "\n",
       "    .dataframe tbody tr th {\n",
       "        vertical-align: top;\n",
       "    }\n",
       "\n",
       "    .dataframe thead th {\n",
       "        text-align: right;\n",
       "    }\n",
       "</style>\n",
       "<table border=\"1\" class=\"dataframe\">\n",
       "  <thead>\n",
       "    <tr style=\"text-align: right;\">\n",
       "      <th></th>\n",
       "      <th>rank</th>\n",
       "      <th>title</th>\n",
       "      <th>total ratings</th>\n",
       "      <th>installs</th>\n",
       "      <th>average rating</th>\n",
       "      <th>growth (30 days)</th>\n",
       "      <th>growth (60 days)</th>\n",
       "      <th>price</th>\n",
       "      <th>category</th>\n",
       "      <th>5 star ratings</th>\n",
       "      <th>4 star ratings</th>\n",
       "      <th>3 star ratings</th>\n",
       "      <th>2 star ratings</th>\n",
       "      <th>1 star ratings</th>\n",
       "      <th>paid</th>\n",
       "    </tr>\n",
       "  </thead>\n",
       "  <tbody>\n",
       "    <tr>\n",
       "      <th>0</th>\n",
       "      <td>1</td>\n",
       "      <td>Garena Free Fire- World Series</td>\n",
       "      <td>86273129</td>\n",
       "      <td>500.0 M</td>\n",
       "      <td>4</td>\n",
       "      <td>2.1</td>\n",
       "      <td>6.9</td>\n",
       "      <td>0.0</td>\n",
       "      <td>GAME ACTION</td>\n",
       "      <td>63546766</td>\n",
       "      <td>4949507</td>\n",
       "      <td>3158756</td>\n",
       "      <td>2122183</td>\n",
       "      <td>12495915</td>\n",
       "      <td>False</td>\n",
       "    </tr>\n",
       "    <tr>\n",
       "      <th>1</th>\n",
       "      <td>2</td>\n",
       "      <td>PUBG MOBILE - Traverse</td>\n",
       "      <td>37276732</td>\n",
       "      <td>500.0 M</td>\n",
       "      <td>4</td>\n",
       "      <td>1.8</td>\n",
       "      <td>3.6</td>\n",
       "      <td>0.0</td>\n",
       "      <td>GAME ACTION</td>\n",
       "      <td>28339753</td>\n",
       "      <td>2164478</td>\n",
       "      <td>1253185</td>\n",
       "      <td>809821</td>\n",
       "      <td>4709492</td>\n",
       "      <td>False</td>\n",
       "    </tr>\n",
       "    <tr>\n",
       "      <th>2</th>\n",
       "      <td>3</td>\n",
       "      <td>Mobile Legends: Bang Bang</td>\n",
       "      <td>26663595</td>\n",
       "      <td>100.0 M</td>\n",
       "      <td>4</td>\n",
       "      <td>1.5</td>\n",
       "      <td>3.2</td>\n",
       "      <td>0.0</td>\n",
       "      <td>GAME ACTION</td>\n",
       "      <td>18777988</td>\n",
       "      <td>1812094</td>\n",
       "      <td>1050600</td>\n",
       "      <td>713912</td>\n",
       "      <td>4308998</td>\n",
       "      <td>False</td>\n",
       "    </tr>\n",
       "    <tr>\n",
       "      <th>3</th>\n",
       "      <td>4</td>\n",
       "      <td>Brawl Stars</td>\n",
       "      <td>17971552</td>\n",
       "      <td>100.0 M</td>\n",
       "      <td>4</td>\n",
       "      <td>1.4</td>\n",
       "      <td>4.4</td>\n",
       "      <td>0.0</td>\n",
       "      <td>GAME ACTION</td>\n",
       "      <td>13018610</td>\n",
       "      <td>1552950</td>\n",
       "      <td>774012</td>\n",
       "      <td>406184</td>\n",
       "      <td>2219794</td>\n",
       "      <td>False</td>\n",
       "    </tr>\n",
       "    <tr>\n",
       "      <th>4</th>\n",
       "      <td>5</td>\n",
       "      <td>Sniper 3D: Fun Free Online FPS Shooting Game</td>\n",
       "      <td>14464235</td>\n",
       "      <td>500.0 M</td>\n",
       "      <td>4</td>\n",
       "      <td>0.8</td>\n",
       "      <td>1.5</td>\n",
       "      <td>0.0</td>\n",
       "      <td>GAME ACTION</td>\n",
       "      <td>9827328</td>\n",
       "      <td>2124154</td>\n",
       "      <td>1047741</td>\n",
       "      <td>380670</td>\n",
       "      <td>1084340</td>\n",
       "      <td>False</td>\n",
       "    </tr>\n",
       "  </tbody>\n",
       "</table>\n",
       "</div>"
      ],
      "text/plain": [
       "   rank                                         title  total ratings installs  \\\n",
       "0     1                Garena Free Fire- World Series       86273129  500.0 M   \n",
       "1     2                        PUBG MOBILE - Traverse       37276732  500.0 M   \n",
       "2     3                     Mobile Legends: Bang Bang       26663595  100.0 M   \n",
       "3     4                                   Brawl Stars       17971552  100.0 M   \n",
       "4     5  Sniper 3D: Fun Free Online FPS Shooting Game       14464235  500.0 M   \n",
       "\n",
       "   average rating  growth (30 days)  growth (60 days)  price     category  \\\n",
       "0               4               2.1               6.9    0.0  GAME ACTION   \n",
       "1               4               1.8               3.6    0.0  GAME ACTION   \n",
       "2               4               1.5               3.2    0.0  GAME ACTION   \n",
       "3               4               1.4               4.4    0.0  GAME ACTION   \n",
       "4               4               0.8               1.5    0.0  GAME ACTION   \n",
       "\n",
       "   5 star ratings  4 star ratings  3 star ratings  2 star ratings  \\\n",
       "0        63546766         4949507         3158756         2122183   \n",
       "1        28339753         2164478         1253185          809821   \n",
       "2        18777988         1812094         1050600          713912   \n",
       "3        13018610         1552950          774012          406184   \n",
       "4         9827328         2124154         1047741          380670   \n",
       "\n",
       "   1 star ratings   paid  \n",
       "0        12495915  False  \n",
       "1         4709492  False  \n",
       "2         4308998  False  \n",
       "3         2219794  False  \n",
       "4         1084340  False  "
      ]
     },
     "execution_count": 74,
     "metadata": {},
     "output_type": "execute_result"
    }
   ],
   "source": [
    "sns_df=df.head(300)\n",
    "sns_df.head(5)\n"
   ]
  },
  {
   "cell_type": "code",
   "execution_count": 76,
   "id": "5c937a97",
   "metadata": {},
   "outputs": [
    {
     "data": {
      "image/png": "[encoded data removed]",
      "text/plain": [
       "<Figure size 360x360 with 1 Axes>"
      ]
     },
     "metadata": {},
     "output_type": "display_data"
    }
   ],
   "source": [
    "import seaborn as sns \n",
    "import matplotlib.pyplot as plt\n",
    "sns.set_style('darkgrid')\n",
    "sns.set(font_scale=1)\n",
    "sns.catplot(x='category',y='rank',kind='box',data=sns_df)\n",
    "plt.gcf().autofmt_xdate() #prevents overlapping\n",
    "plt.show()"
   ]
  },
  {
   "cell_type": "markdown",
   "id": "ec4f0e64",
   "metadata": {},
   "source": [
    "We can also draw bar chart with averge rating as hue"
   ]
  },
  {
   "cell_type": "code",
   "execution_count": 78,
   "id": "3591ef24",
   "metadata": {},
   "outputs": [
    {
     "data": {
      "image/png": "[encoded data removed]",
      "text/plain": [
       "<Figure size 445.425x360 with 1 Axes>"
      ]
     },
     "metadata": {},
     "output_type": "display_data"
    }
   ],
   "source": [
    "sns.set_style('darkgrid')\n",
    "sns.set(font_scale=1)\n",
    "sns.catplot(x='category',y='rank',kind='bar',data=sns_df,hue='average rating')\n",
    "plt.gcf().autofmt_xdate() #prevents overlapping\n",
    "plt.show()"
   ]
  },
  {
   "cell_type": "markdown",
   "id": "5c3fcdf9",
   "metadata": {},
   "source": [
    " **<font size=\"3\"> Point & Count plot </font>**  \n",
    "-point plot represents an estimate of central tendency for a numeric variable by the position of scatter plot points and provides some indication of the uncertainty around that estimate using error bars  \n",
    "-count plot can be thought of as a histogram across a categorical, instead of quantitative, variable  \n",
    "**src:seaborn documentation**"
   ]
  },
  {
   "cell_type": "code",
   "execution_count": 82,
   "id": "245b233d",
   "metadata": {},
   "outputs": [
    {
     "data": {
      "image/png": "[encoded data removed]",
      "text/plain": [
       "<Figure size 445.425x360 with 1 Axes>"
      ]
     },
     "metadata": {},
     "output_type": "display_data"
    }
   ],
   "source": [
    "sns.catplot(x='category',y='rank',kind='point',data=sns_df,hue='average rating',dodge=True)\n",
    "plt.show()"
   ]
  },
  {
   "cell_type": "code",
   "execution_count": 84,
   "id": "8c2bdd73",
   "metadata": {},
   "outputs": [
    {
     "data": {
      "image/png": "[encoded data removed]",
      "text/plain": [
       "<Figure size 445.425x360 with 1 Axes>"
      ]
     },
     "metadata": {},
     "output_type": "display_data"
    }
   ],
   "source": [
    "sns.catplot(x='category',kind='count',data=sns_df,hue='average rating',dodge=True)\n",
    "plt.show()"
   ]
  },
  {
   "cell_type": "markdown",
   "id": "9d509aae",
   "metadata": {},
   "source": [
    "We can devide avg rating into different graphs \n",
    "pass the column's name we want to use it to devide the graph to **col**  \n",
    "pass number if graphs before breaking line to **col_wrap**"
   ]
  },
  {
   "cell_type": "code",
   "execution_count": 86,
   "id": "d7d42d12",
   "metadata": {},
   "outputs": [
    {
     "data": {
      "image/png": "[encoded data removed]",
      "text/plain": [
       "<Figure size 720x360 with 2 Axes>"
      ]
     },
     "metadata": {},
     "output_type": "display_data"
    }
   ],
   "source": [
    "sns.catplot(x='category',kind='count',data=sns_df,col='average rating',dodge=True,col_wrap=2)\n",
    "plt.show()"
   ]
  },
  {
   "cell_type": "markdown",
   "id": "a50fff45",
   "metadata": {},
   "source": [
    "**Label encoding**  \n",
    "-Since ML models use numbers,It's better to transform categories to numbers.    \n",
    "-There is alot of techniques to do that & Label encoding is one of them.    \n",
    "-It's about simply replacing each category with an integer number.  \n",
    "-It's not the best approach because it might indicate there is some sort of heirarchy between different categories.  "
   ]
  },
  {
   "cell_type": "code",
   "execution_count": 91,
   "id": "b44cc366",
   "metadata": {},
   "outputs": [
    {
     "data": {
      "text/html": [
       "<div>\n",
       "<style scoped>\n",
       "    .dataframe tbody tr th:only-of-type {\n",
       "        vertical-align: middle;\n",
       "    }\n",
       "\n",
       "    .dataframe tbody tr th {\n",
       "        vertical-align: top;\n",
       "    }\n",
       "\n",
       "    .dataframe thead th {\n",
       "        text-align: right;\n",
       "    }\n",
       "</style>\n",
       "<table border=\"1\" class=\"dataframe\">\n",
       "  <thead>\n",
       "    <tr style=\"text-align: right;\">\n",
       "      <th></th>\n",
       "      <th>rank</th>\n",
       "      <th>title</th>\n",
       "      <th>category</th>\n",
       "      <th>updated_categories</th>\n",
       "      <th>encoded_categories</th>\n",
       "    </tr>\n",
       "  </thead>\n",
       "  <tbody>\n",
       "    <tr>\n",
       "      <th>0</th>\n",
       "      <td>1</td>\n",
       "      <td>Garena Free Fire- World Series</td>\n",
       "      <td>Game Action</td>\n",
       "      <td>Game Action</td>\n",
       "      <td>0</td>\n",
       "    </tr>\n",
       "    <tr>\n",
       "      <th>1</th>\n",
       "      <td>2</td>\n",
       "      <td>PUBG MOBILE - Traverse</td>\n",
       "      <td>Game Action</td>\n",
       "      <td>Game Action</td>\n",
       "      <td>0</td>\n",
       "    </tr>\n",
       "    <tr>\n",
       "      <th>2</th>\n",
       "      <td>3</td>\n",
       "      <td>Mobile Legends: Bang Bang</td>\n",
       "      <td>Game Action</td>\n",
       "      <td>Game Action</td>\n",
       "      <td>0</td>\n",
       "    </tr>\n",
       "    <tr>\n",
       "      <th>3</th>\n",
       "      <td>4</td>\n",
       "      <td>Brawl Stars</td>\n",
       "      <td>Game Action</td>\n",
       "      <td>Game Action</td>\n",
       "      <td>0</td>\n",
       "    </tr>\n",
       "    <tr>\n",
       "      <th>4</th>\n",
       "      <td>5</td>\n",
       "      <td>Sniper 3D: Fun Free Online FPS Shooting Game</td>\n",
       "      <td>Game Action</td>\n",
       "      <td>Game Action</td>\n",
       "      <td>0</td>\n",
       "    </tr>\n",
       "  </tbody>\n",
       "</table>\n",
       "</div>"
      ],
      "text/plain": [
       "   rank                                         title     category  \\\n",
       "0     1                Garena Free Fire- World Series  Game Action   \n",
       "1     2                        PUBG MOBILE - Traverse  Game Action   \n",
       "2     3                     Mobile Legends: Bang Bang  Game Action   \n",
       "3     4                                   Brawl Stars  Game Action   \n",
       "4     5  Sniper 3D: Fun Free Online FPS Shooting Game  Game Action   \n",
       "\n",
       "  updated_categories  encoded_categories  \n",
       "0        Game Action                   0  \n",
       "1        Game Action                   0  \n",
       "2        Game Action                   0  \n",
       "3        Game Action                   0  \n",
       "4        Game Action                   0  "
      ]
     },
     "execution_count": 91,
     "metadata": {},
     "output_type": "execute_result"
    }
   ],
   "source": [
    "category_df.loc[:,'encoded_categories']=category_df.loc[:,'category'].cat.codes\n",
    "category_df.head()"
   ]
  },
  {
   "cell_type": "markdown",
   "id": "2517a09f",
   "metadata": {},
   "source": [
    "**One-hot encoding**  \n",
    "-Another approach that tries to solve the heirarchy problem  \n",
    "-If there is n categories,n new columns added to data  \n",
    "-There is a column indicate each category and its value =1 , other columns =0"
   ]
  },
  {
   "cell_type": "code",
   "execution_count": 95,
   "id": "8c0936f9",
   "metadata": {
    "scrolled": true
   },
   "outputs": [
    {
     "data": {
      "text/html": [
       "<div>\n",
       "<style scoped>\n",
       "    .dataframe tbody tr th:only-of-type {\n",
       "        vertical-align: middle;\n",
       "    }\n",
       "\n",
       "    .dataframe tbody tr th {\n",
       "        vertical-align: top;\n",
       "    }\n",
       "\n",
       "    .dataframe thead th {\n",
       "        text-align: right;\n",
       "    }\n",
       "</style>\n",
       "<table border=\"1\" class=\"dataframe\">\n",
       "  <thead>\n",
       "    <tr style=\"text-align: right;\">\n",
       "      <th></th>\n",
       "      <th>rank</th>\n",
       "      <th>title</th>\n",
       "      <th>updated_categories</th>\n",
       "      <th>encoded_categories</th>\n",
       "      <th>dummy_Game Action</th>\n",
       "      <th>dummy_Game Adventure</th>\n",
       "      <th>dummy_Game Arcade</th>\n",
       "      <th>dummy_Game Board</th>\n",
       "      <th>dummy_Game Card</th>\n",
       "      <th>dummy_Game Casino</th>\n",
       "      <th>...</th>\n",
       "      <th>dummy_Game Educational</th>\n",
       "      <th>dummy_Game Music</th>\n",
       "      <th>dummy_Game Puzzle</th>\n",
       "      <th>dummy_Game Racing</th>\n",
       "      <th>dummy_Game Role Playing</th>\n",
       "      <th>dummy_Game Simulation</th>\n",
       "      <th>dummy_Game Sports</th>\n",
       "      <th>dummy_Game Strategy</th>\n",
       "      <th>dummy_Game Trivia</th>\n",
       "      <th>dummy_Game Word</th>\n",
       "    </tr>\n",
       "  </thead>\n",
       "  <tbody>\n",
       "    <tr>\n",
       "      <th>0</th>\n",
       "      <td>1</td>\n",
       "      <td>Garena Free Fire- World Series</td>\n",
       "      <td>Game Action</td>\n",
       "      <td>0</td>\n",
       "      <td>1</td>\n",
       "      <td>0</td>\n",
       "      <td>0</td>\n",
       "      <td>0</td>\n",
       "      <td>0</td>\n",
       "      <td>0</td>\n",
       "      <td>...</td>\n",
       "      <td>0</td>\n",
       "      <td>0</td>\n",
       "      <td>0</td>\n",
       "      <td>0</td>\n",
       "      <td>0</td>\n",
       "      <td>0</td>\n",
       "      <td>0</td>\n",
       "      <td>0</td>\n",
       "      <td>0</td>\n",
       "      <td>0</td>\n",
       "    </tr>\n",
       "    <tr>\n",
       "      <th>1</th>\n",
       "      <td>2</td>\n",
       "      <td>PUBG MOBILE - Traverse</td>\n",
       "      <td>Game Action</td>\n",
       "      <td>0</td>\n",
       "      <td>1</td>\n",
       "      <td>0</td>\n",
       "      <td>0</td>\n",
       "      <td>0</td>\n",
       "      <td>0</td>\n",
       "      <td>0</td>\n",
       "      <td>...</td>\n",
       "      <td>0</td>\n",
       "      <td>0</td>\n",
       "      <td>0</td>\n",
       "      <td>0</td>\n",
       "      <td>0</td>\n",
       "      <td>0</td>\n",
       "      <td>0</td>\n",
       "      <td>0</td>\n",
       "      <td>0</td>\n",
       "      <td>0</td>\n",
       "    </tr>\n",
       "    <tr>\n",
       "      <th>2</th>\n",
       "      <td>3</td>\n",
       "      <td>Mobile Legends: Bang Bang</td>\n",
       "      <td>Game Action</td>\n",
       "      <td>0</td>\n",
       "      <td>1</td>\n",
       "      <td>0</td>\n",
       "      <td>0</td>\n",
       "      <td>0</td>\n",
       "      <td>0</td>\n",
       "      <td>0</td>\n",
       "      <td>...</td>\n",
       "      <td>0</td>\n",
       "      <td>0</td>\n",
       "      <td>0</td>\n",
       "      <td>0</td>\n",
       "      <td>0</td>\n",
       "      <td>0</td>\n",
       "      <td>0</td>\n",
       "      <td>0</td>\n",
       "      <td>0</td>\n",
       "      <td>0</td>\n",
       "    </tr>\n",
       "    <tr>\n",
       "      <th>3</th>\n",
       "      <td>4</td>\n",
       "      <td>Brawl Stars</td>\n",
       "      <td>Game Action</td>\n",
       "      <td>0</td>\n",
       "      <td>1</td>\n",
       "      <td>0</td>\n",
       "      <td>0</td>\n",
       "      <td>0</td>\n",
       "      <td>0</td>\n",
       "      <td>0</td>\n",
       "      <td>...</td>\n",
       "      <td>0</td>\n",
       "      <td>0</td>\n",
       "      <td>0</td>\n",
       "      <td>0</td>\n",
       "      <td>0</td>\n",
       "      <td>0</td>\n",
       "      <td>0</td>\n",
       "      <td>0</td>\n",
       "      <td>0</td>\n",
       "      <td>0</td>\n",
       "    </tr>\n",
       "    <tr>\n",
       "      <th>4</th>\n",
       "      <td>5</td>\n",
       "      <td>Sniper 3D: Fun Free Online FPS Shooting Game</td>\n",
       "      <td>Game Action</td>\n",
       "      <td>0</td>\n",
       "      <td>1</td>\n",
       "      <td>0</td>\n",
       "      <td>0</td>\n",
       "      <td>0</td>\n",
       "      <td>0</td>\n",
       "      <td>0</td>\n",
       "      <td>...</td>\n",
       "      <td>0</td>\n",
       "      <td>0</td>\n",
       "      <td>0</td>\n",
       "      <td>0</td>\n",
       "      <td>0</td>\n",
       "      <td>0</td>\n",
       "      <td>0</td>\n",
       "      <td>0</td>\n",
       "      <td>0</td>\n",
       "      <td>0</td>\n",
       "    </tr>\n",
       "  </tbody>\n",
       "</table>\n",
       "<p>5 rows × 21 columns</p>\n",
       "</div>"
      ],
      "text/plain": [
       "   rank                                         title updated_categories  \\\n",
       "0     1                Garena Free Fire- World Series        Game Action   \n",
       "1     2                        PUBG MOBILE - Traverse        Game Action   \n",
       "2     3                     Mobile Legends: Bang Bang        Game Action   \n",
       "3     4                                   Brawl Stars        Game Action   \n",
       "4     5  Sniper 3D: Fun Free Online FPS Shooting Game        Game Action   \n",
       "\n",
       "   encoded_categories  dummy_Game Action  dummy_Game Adventure  \\\n",
       "0                   0                  1                     0   \n",
       "1                   0                  1                     0   \n",
       "2                   0                  1                     0   \n",
       "3                   0                  1                     0   \n",
       "4                   0                  1                     0   \n",
       "\n",
       "   dummy_Game Arcade  dummy_Game Board  dummy_Game Card  dummy_Game Casino  \\\n",
       "0                  0                 0                0                  0   \n",
       "1                  0                 0                0                  0   \n",
       "2                  0                 0                0                  0   \n",
       "3                  0                 0                0                  0   \n",
       "4                  0                 0                0                  0   \n",
       "\n",
       "   ...  dummy_Game Educational  dummy_Game Music  dummy_Game Puzzle  \\\n",
       "0  ...                       0                 0                  0   \n",
       "1  ...                       0                 0                  0   \n",
       "2  ...                       0                 0                  0   \n",
       "3  ...                       0                 0                  0   \n",
       "4  ...                       0                 0                  0   \n",
       "\n",
       "   dummy_Game Racing  dummy_Game Role Playing  dummy_Game Simulation  \\\n",
       "0                  0                        0                      0   \n",
       "1                  0                        0                      0   \n",
       "2                  0                        0                      0   \n",
       "3                  0                        0                      0   \n",
       "4                  0                        0                      0   \n",
       "\n",
       "   dummy_Game Sports  dummy_Game Strategy  dummy_Game Trivia  dummy_Game Word  \n",
       "0                  0                    0                  0                0  \n",
       "1                  0                    0                  0                0  \n",
       "2                  0                    0                  0                0  \n",
       "3                  0                    0                  0                0  \n",
       "4                  0                    0                  0                0  \n",
       "\n",
       "[5 rows x 21 columns]"
      ]
     },
     "execution_count": 95,
     "metadata": {},
     "output_type": "execute_result"
    }
   ],
   "source": [
    "one_hot_df=pd.get_dummies(category_df,prefix='dummy',columns=['category'])\n",
    "one_hot_df.head()"
   ]
  },
  {
   "cell_type": "markdown",
   "id": "ca5a0cb0",
   "metadata": {},
   "source": [
    "**Note**:There is also one hot encoder in sklearn"
   ]
  }
 ],
 "metadata": {
  "kernelspec": {
   "display_name": "Python 3 (ipykernel)",
   "language": "python",
   "name": "python3"
  },
  "language_info": {
   "codemirror_mode": {
    "name": "ipython",
    "version": 3
   },
   "file_extension": ".py",
   "mimetype": "text/x-python",
   "name": "python",
   "nbconvert_exporter": "python",
   "pygments_lexer": "ipython3",
   "version": "3.9.7"
  }
 },
 "nbformat": 4,
 "nbformat_minor": 5
}
